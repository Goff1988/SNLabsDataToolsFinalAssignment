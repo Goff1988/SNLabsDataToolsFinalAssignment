{
 "cells": [
  {
   "cell_type": "markdown",
   "id": "4b8fc896-8478-4c4f-a6fb-e2789d955e36",
   "metadata": {},
   "source": [
    "# Data Science Tools and Ecosystem"
   ]
  },
  {
   "cell_type": "markdown",
   "id": "46dc86a5-8fdc-4257-9877-6b558bce0ec0",
   "metadata": {},
   "source": [
    "### In this notebook, Data Science Tools and Ecosystem are summarized."
   ]
  },
  {
   "cell_type": "markdown",
   "id": "a7f33080-fdcc-446a-a80c-1c9038a3e023",
   "metadata": {},
   "source": [
    "### Objectives:\n",
    "* List popular languages for Data Science\n",
    "* List popular libraries used by Data Scientists\n",
    "* List Data Science Development Tools"
   ]
  },
  {
   "cell_type": "markdown",
   "id": "fad023ad-feed-477e-a7d5-e3ad1d279b39",
   "metadata": {
    "tags": []
   },
   "source": [
    "### Some of the popular languages that Data Scientists use are:\n",
    "\n",
    "1. Python\n",
    "2. R\n",
    "3. SQL"
   ]
  },
  {
   "cell_type": "markdown",
   "id": "57b44783-fb7a-4288-b528-bddcbe9d1e8a",
   "metadata": {},
   "source": [
    "### Some of the commonly used libraries used by Data Scientists include:\n",
    "\n",
    "1. Pandas\n",
    "2. Numpy\n",
    "3. Matplotlib"
   ]
  },
  {
   "cell_type": "markdown",
   "id": "103ac59b-2e29-4cc1-a324-a5ab06a18f4f",
   "metadata": {},
   "source": [
    "|Data Science Tools|\n",
    "|------------------|\n",
    "|Jupyter Notebooks|\n",
    "|RStudio|\n",
    "|Anaconda|\n",
    "|VS Code|"
   ]
  },
  {
   "cell_type": "markdown",
   "id": "0a145383-c46d-4cf4-b531-9ea89a0e19d0",
   "metadata": {},
   "source": [
    "### Below are a few examples of evaluating arithmetic expressions in Python."
   ]
  },
  {
   "cell_type": "code",
   "execution_count": 1,
   "id": "8a4af740-a364-451f-9cbf-3d7092ea1df9",
   "metadata": {
    "tags": []
   },
   "outputs": [
    {
     "data": {
      "text/plain": [
       "17"
      ]
     },
     "execution_count": 1,
     "metadata": {},
     "output_type": "execute_result"
    }
   ],
   "source": [
    "#This is a simple arithmetic expression to multiply then add integers.\n",
    "(3*4)+5"
   ]
  },
  {
   "cell_type": "code",
   "execution_count": 2,
   "id": "bf3ef99c-5c94-4fea-aa30-c5dca044e7f3",
   "metadata": {
    "tags": []
   },
   "outputs": [
    {
     "data": {
      "text/plain": [
       "3.3333333333333335"
      ]
     },
     "execution_count": 2,
     "metadata": {},
     "output_type": "execute_result"
    }
   ],
   "source": [
    "#This will convert 200 minutes to hours by dividing by 60.\n",
    "200/60"
   ]
  },
  {
   "cell_type": "markdown",
   "id": "2434829f-488f-495f-bf84-26853520d643",
   "metadata": {},
   "source": [
    "## Author\n",
    "Joshua Goff"
   ]
  },
  {
   "cell_type": "code",
   "execution_count": null,
   "id": "91a5cd17-4209-4a25-ac1c-cdfde68cc343",
   "metadata": {},
   "outputs": [],
   "source": []
  }
 ],
 "metadata": {
  "kernelspec": {
   "display_name": "Python",
   "language": "python",
   "name": "conda-env-python-py"
  },
  "language_info": {
   "codemirror_mode": {
    "name": "ipython",
    "version": 3
   },
   "file_extension": ".py",
   "mimetype": "text/x-python",
   "name": "python",
   "nbconvert_exporter": "python",
   "pygments_lexer": "ipython3",
   "version": "3.7.12"
  }
 },
 "nbformat": 4,
 "nbformat_minor": 5
}
